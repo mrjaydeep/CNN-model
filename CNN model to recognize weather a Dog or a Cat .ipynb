{
 "cells": [
  {
   "cell_type": "markdown",
   "metadata": {
    "colab_type": "text",
    "id": "3DR-eO17geWu"
   },
   "source": [
    "# Convolutional Neural Network"
   ]
  },
  {
   "cell_type": "markdown",
   "metadata": {
    "colab_type": "text",
    "id": "EMefrVPCg-60"
   },
   "source": [
    "### Importing the libraries"
   ]
  },
  {
   "cell_type": "code",
   "execution_count": 1,
   "metadata": {
    "colab": {},
    "colab_type": "code",
    "id": "sCV30xyVhFbE"
   },
   "outputs": [
    {
     "name": "stdout",
     "output_type": "stream",
     "text": [
      "WARNING:tensorflow:From C:\\Users\\mrjay\\anaconda3\\Lib\\site-packages\\keras\\src\\losses.py:2976: The name tf.losses.sparse_softmax_cross_entropy is deprecated. Please use tf.compat.v1.losses.sparse_softmax_cross_entropy instead.\n",
      "\n"
     ]
    }
   ],
   "source": [
    "import tensorflow as tf\n",
    "from keras.preprocessing.image import ImageDataGenerator"
   ]
  },
  {
   "cell_type": "markdown",
   "metadata": {
    "colab_type": "text",
    "id": "oxQxCBWyoGPE"
   },
   "source": [
    "## Part 1 - Data Preprocessing"
   ]
  },
  {
   "cell_type": "markdown",
   "metadata": {
    "colab_type": "text",
    "id": "MvE-heJNo3GG"
   },
   "source": [
    "### Preprocessing the Training set"
   ]
  },
  {
   "cell_type": "code",
   "execution_count": 2,
   "metadata": {
    "colab": {},
    "colab_type": "code",
    "id": "0koUcJMJpEBD"
   },
   "outputs": [
    {
     "name": "stdout",
     "output_type": "stream",
     "text": [
      "Found 8000 images belonging to 2 classes.\n"
     ]
    }
   ],
   "source": [
    "train_datagen = ImageDataGenerator(rescale = 1./255,\n",
    "                                   shear_range = 0.2,\n",
    "                                   zoom_range = 0.2,\n",
    "                                   horizontal_flip = True)\n",
    "training_set = train_datagen.flow_from_directory('dataset/training_set',\n",
    "                                                 target_size = (64, 64),\n",
    "                                                 batch_size = 32,\n",
    "                                                 class_mode = 'binary')"
   ]
  },
  {
   "cell_type": "markdown",
   "metadata": {
    "colab_type": "text",
    "id": "mrCMmGw9pHys"
   },
   "source": [
    "### Preprocessing the Test set"
   ]
  },
  {
   "cell_type": "code",
   "execution_count": 3,
   "metadata": {
    "colab": {},
    "colab_type": "code",
    "id": "SH4WzfOhpKc3"
   },
   "outputs": [
    {
     "name": "stdout",
     "output_type": "stream",
     "text": [
      "Found 2000 images belonging to 2 classes.\n"
     ]
    }
   ],
   "source": [
    "test_datagen = ImageDataGenerator(rescale = 1./255)\n",
    "test_set = test_datagen.flow_from_directory('dataset/test_set',\n",
    "                                            target_size = (64, 64),\n",
    "                                            batch_size = 32,\n",
    "                                            class_mode = 'binary')"
   ]
  },
  {
   "cell_type": "markdown",
   "metadata": {
    "colab_type": "text",
    "id": "af8O4l90gk7B"
   },
   "source": [
    "## Part 2 - Building the CNN"
   ]
  },
  {
   "cell_type": "markdown",
   "metadata": {
    "colab_type": "text",
    "id": "ces1gXY2lmoX"
   },
   "source": [
    "### Initialising the CNN"
   ]
  },
  {
   "cell_type": "code",
   "execution_count": 4,
   "metadata": {
    "colab": {},
    "colab_type": "code",
    "id": "SAUt4UMPlhLS"
   },
   "outputs": [
    {
     "name": "stdout",
     "output_type": "stream",
     "text": [
      "WARNING:tensorflow:From C:\\Users\\mrjay\\anaconda3\\Lib\\site-packages\\keras\\src\\backend.py:873: The name tf.get_default_graph is deprecated. Please use tf.compat.v1.get_default_graph instead.\n",
      "\n"
     ]
    }
   ],
   "source": [
    "cnn = tf.keras.models.Sequential()"
   ]
  },
  {
   "cell_type": "markdown",
   "metadata": {
    "colab_type": "text",
    "id": "u5YJj_XMl5LF"
   },
   "source": [
    "### Step 1 - Convolution"
   ]
  },
  {
   "cell_type": "code",
   "execution_count": 5,
   "metadata": {
    "colab": {},
    "colab_type": "code",
    "id": "XPzPrMckl-hV"
   },
   "outputs": [],
   "source": [
    "cnn.add(tf.keras.layers.Conv2D(filters=32, kernel_size=3, activation='relu', input_shape=[64, 64, 3]))"
   ]
  },
  {
   "cell_type": "markdown",
   "metadata": {
    "colab_type": "text",
    "id": "tf87FpvxmNOJ"
   },
   "source": [
    "### Step 2 - Pooling"
   ]
  },
  {
   "cell_type": "code",
   "execution_count": 6,
   "metadata": {
    "colab": {},
    "colab_type": "code",
    "id": "ncpqPl69mOac"
   },
   "outputs": [
    {
     "name": "stdout",
     "output_type": "stream",
     "text": [
      "WARNING:tensorflow:From C:\\Users\\mrjay\\anaconda3\\Lib\\site-packages\\keras\\src\\layers\\pooling\\max_pooling2d.py:161: The name tf.nn.max_pool is deprecated. Please use tf.nn.max_pool2d instead.\n",
      "\n"
     ]
    }
   ],
   "source": [
    "cnn.add(tf.keras.layers.MaxPool2D(pool_size=2, strides=2))"
   ]
  },
  {
   "cell_type": "markdown",
   "metadata": {
    "colab_type": "text",
    "id": "xaTOgD8rm4mU"
   },
   "source": [
    "### Adding a second convolutional layer"
   ]
  },
  {
   "cell_type": "code",
   "execution_count": 7,
   "metadata": {
    "colab": {},
    "colab_type": "code",
    "id": "i_-FZjn_m8gk"
   },
   "outputs": [],
   "source": [
    "cnn.add(tf.keras.layers.Conv2D(filters=32, kernel_size=3, activation='relu'))\n",
    "cnn.add(tf.keras.layers.MaxPool2D(pool_size=2, strides=2))"
   ]
  },
  {
   "cell_type": "markdown",
   "metadata": {
    "colab_type": "text",
    "id": "tmiEuvTunKfk"
   },
   "source": [
    "### Step 3 - Flattening"
   ]
  },
  {
   "cell_type": "code",
   "execution_count": 8,
   "metadata": {
    "colab": {},
    "colab_type": "code",
    "id": "6AZeOGCvnNZn"
   },
   "outputs": [],
   "source": [
    "cnn.add(tf.keras.layers.Flatten())"
   ]
  },
  {
   "cell_type": "markdown",
   "metadata": {
    "colab_type": "text",
    "id": "dAoSECOm203v"
   },
   "source": [
    "### Step 4 - Full Connection"
   ]
  },
  {
   "cell_type": "code",
   "execution_count": 9,
   "metadata": {
    "colab": {},
    "colab_type": "code",
    "id": "8GtmUlLd26Nq"
   },
   "outputs": [],
   "source": [
    "cnn.add(tf.keras.layers.Dense(units=128, activation='relu'))"
   ]
  },
  {
   "cell_type": "markdown",
   "metadata": {
    "colab_type": "text",
    "id": "yTldFvbX28Na"
   },
   "source": [
    "### Step 5 - Output Layer"
   ]
  },
  {
   "cell_type": "code",
   "execution_count": 10,
   "metadata": {
    "colab": {},
    "colab_type": "code",
    "id": "1p_Zj1Mc3Ko_"
   },
   "outputs": [],
   "source": [
    "cnn.add(tf.keras.layers.Dense(units=1, activation='sigmoid'))"
   ]
  },
  {
   "cell_type": "markdown",
   "metadata": {
    "colab_type": "text",
    "id": "D6XkI90snSDl"
   },
   "source": [
    "## Part 3 - Training the CNN"
   ]
  },
  {
   "cell_type": "markdown",
   "metadata": {
    "colab_type": "text",
    "id": "vfrFQACEnc6i"
   },
   "source": [
    "### Compiling the CNN"
   ]
  },
  {
   "cell_type": "code",
   "execution_count": 11,
   "metadata": {
    "colab": {},
    "colab_type": "code",
    "id": "NALksrNQpUlJ"
   },
   "outputs": [
    {
     "name": "stdout",
     "output_type": "stream",
     "text": [
      "WARNING:tensorflow:From C:\\Users\\mrjay\\anaconda3\\Lib\\site-packages\\keras\\src\\optimizers\\__init__.py:309: The name tf.train.Optimizer is deprecated. Please use tf.compat.v1.train.Optimizer instead.\n",
      "\n"
     ]
    }
   ],
   "source": [
    "cnn.compile(optimizer = 'adam', loss = 'binary_crossentropy', metrics = ['accuracy'])"
   ]
  },
  {
   "cell_type": "markdown",
   "metadata": {
    "colab_type": "text",
    "id": "ehS-v3MIpX2h"
   },
   "source": [
    "### Training the CNN on the Training set and evaluating it on the Test set"
   ]
  },
  {
   "cell_type": "code",
   "execution_count": 12,
   "metadata": {
    "colab": {},
    "colab_type": "code",
    "id": "XUj1W4PJptta"
   },
   "outputs": [
    {
     "name": "stdout",
     "output_type": "stream",
     "text": [
      "Epoch 1/25\n",
      "WARNING:tensorflow:From C:\\Users\\mrjay\\anaconda3\\Lib\\site-packages\\keras\\src\\utils\\tf_utils.py:492: The name tf.ragged.RaggedTensorValue is deprecated. Please use tf.compat.v1.ragged.RaggedTensorValue instead.\n",
      "\n",
      "WARNING:tensorflow:From C:\\Users\\mrjay\\anaconda3\\Lib\\site-packages\\keras\\src\\engine\\base_layer_utils.py:384: The name tf.executing_eagerly_outside_functions is deprecated. Please use tf.compat.v1.executing_eagerly_outside_functions instead.\n",
      "\n",
      "250/250 [==============================] - 73s 288ms/step - loss: 0.6549 - accuracy: 0.6110 - val_loss: 0.6182 - val_accuracy: 0.6745\n",
      "Epoch 2/25\n",
      "250/250 [==============================] - 30s 122ms/step - loss: 0.5861 - accuracy: 0.6921 - val_loss: 0.5436 - val_accuracy: 0.7320\n",
      "Epoch 3/25\n",
      "250/250 [==============================] - 28s 113ms/step - loss: 0.5355 - accuracy: 0.7355 - val_loss: 0.4983 - val_accuracy: 0.7550\n",
      "Epoch 4/25\n",
      "250/250 [==============================] - 31s 123ms/step - loss: 0.5063 - accuracy: 0.7510 - val_loss: 0.4748 - val_accuracy: 0.7750\n",
      "Epoch 5/25\n",
      "250/250 [==============================] - 29s 116ms/step - loss: 0.4790 - accuracy: 0.7707 - val_loss: 0.4803 - val_accuracy: 0.7745\n",
      "Epoch 6/25\n",
      "250/250 [==============================] - 28s 114ms/step - loss: 0.4643 - accuracy: 0.7780 - val_loss: 0.5026 - val_accuracy: 0.7705\n",
      "Epoch 7/25\n",
      "250/250 [==============================] - 30s 122ms/step - loss: 0.4461 - accuracy: 0.7884 - val_loss: 0.4615 - val_accuracy: 0.7870\n",
      "Epoch 8/25\n",
      "250/250 [==============================] - 28s 113ms/step - loss: 0.4361 - accuracy: 0.7974 - val_loss: 0.4524 - val_accuracy: 0.7985\n",
      "Epoch 9/25\n",
      "250/250 [==============================] - 29s 117ms/step - loss: 0.4264 - accuracy: 0.8026 - val_loss: 0.4665 - val_accuracy: 0.7865\n",
      "Epoch 10/25\n",
      "250/250 [==============================] - 28s 112ms/step - loss: 0.4022 - accuracy: 0.8191 - val_loss: 0.4964 - val_accuracy: 0.7670\n",
      "Epoch 11/25\n",
      "250/250 [==============================] - 28s 112ms/step - loss: 0.3926 - accuracy: 0.8202 - val_loss: 0.4803 - val_accuracy: 0.7810\n",
      "Epoch 12/25\n",
      "250/250 [==============================] - 28s 114ms/step - loss: 0.3781 - accuracy: 0.8319 - val_loss: 0.4673 - val_accuracy: 0.8000\n",
      "Epoch 13/25\n",
      "250/250 [==============================] - 28s 111ms/step - loss: 0.3671 - accuracy: 0.8329 - val_loss: 0.4693 - val_accuracy: 0.7970\n",
      "Epoch 14/25\n",
      "250/250 [==============================] - 29s 115ms/step - loss: 0.3545 - accuracy: 0.8376 - val_loss: 0.4503 - val_accuracy: 0.7990\n",
      "Epoch 15/25\n",
      "250/250 [==============================] - 29s 114ms/step - loss: 0.3438 - accuracy: 0.8493 - val_loss: 0.4688 - val_accuracy: 0.7980\n",
      "Epoch 16/25\n",
      "250/250 [==============================] - 29s 115ms/step - loss: 0.3262 - accuracy: 0.8561 - val_loss: 0.4641 - val_accuracy: 0.7895\n",
      "Epoch 17/25\n",
      "250/250 [==============================] - 29s 115ms/step - loss: 0.3082 - accuracy: 0.8687 - val_loss: 0.4781 - val_accuracy: 0.7910\n",
      "Epoch 18/25\n",
      "250/250 [==============================] - 29s 114ms/step - loss: 0.2973 - accuracy: 0.8714 - val_loss: 0.4548 - val_accuracy: 0.8035\n",
      "Epoch 19/25\n",
      "250/250 [==============================] - 28s 114ms/step - loss: 0.2811 - accuracy: 0.8823 - val_loss: 0.4998 - val_accuracy: 0.7905\n",
      "Epoch 20/25\n",
      "250/250 [==============================] - 28s 113ms/step - loss: 0.2680 - accuracy: 0.8880 - val_loss: 0.5203 - val_accuracy: 0.8035\n",
      "Epoch 21/25\n",
      "250/250 [==============================] - 28s 113ms/step - loss: 0.2585 - accuracy: 0.8914 - val_loss: 0.5316 - val_accuracy: 0.7920\n",
      "Epoch 22/25\n",
      "250/250 [==============================] - 28s 114ms/step - loss: 0.2341 - accuracy: 0.9020 - val_loss: 0.5246 - val_accuracy: 0.8025\n",
      "Epoch 23/25\n",
      "250/250 [==============================] - 29s 116ms/step - loss: 0.2367 - accuracy: 0.9031 - val_loss: 0.4997 - val_accuracy: 0.8005\n",
      "Epoch 24/25\n",
      "250/250 [==============================] - 29s 114ms/step - loss: 0.2194 - accuracy: 0.9133 - val_loss: 0.5197 - val_accuracy: 0.8015\n",
      "Epoch 25/25\n",
      "250/250 [==============================] - 29s 116ms/step - loss: 0.2080 - accuracy: 0.9158 - val_loss: 0.5327 - val_accuracy: 0.8000\n"
     ]
    },
    {
     "data": {
      "text/plain": [
       "<keras.src.callbacks.History at 0x22df9f203d0>"
      ]
     },
     "execution_count": 12,
     "metadata": {},
     "output_type": "execute_result"
    }
   ],
   "source": [
    "cnn.fit(x = training_set, validation_data = test_set, epochs = 25)"
   ]
  },
  {
   "cell_type": "markdown",
   "metadata": {
    "colab_type": "text",
    "id": "U3PZasO0006Z"
   },
   "source": [
    "## Part 4 - Making a single prediction"
   ]
  },
  {
   "cell_type": "code",
   "execution_count": 16,
   "metadata": {
    "colab": {},
    "colab_type": "code",
    "id": "gsSiWEJY1BPB"
   },
   "outputs": [
    {
     "name": "stdout",
     "output_type": "stream",
     "text": [
      "Enter the file path of the image: dog.4013.jpg\n",
      "1/1 [==============================] - 0s 109ms/step\n"
     ]
    }
   ],
   "source": [
    "# Part 4 - Making a single prediction\n",
    "import numpy as np\n",
    "from keras.preprocessing import image\n",
    "\n",
    "# Ask the user for the file path of the image\n",
    "image_path = input(\"Enter the file path of the image: \")\n",
    "\n",
    "# Load and preprocess the image\n",
    "test_image = image.load_img(image_path, target_size=(64, 64))\n",
    "test_image = image.img_to_array(test_image)\n",
    "test_image = np.expand_dims(test_image, axis=0)\n",
    "\n",
    "# Make prediction\n",
    "result = cnn.predict(test_image)\n",
    "class_indices = training_set.class_indices\n",
    "\n",
    "# Determine the prediction result\n",
    "if result[0][0] == 1:\n",
    "    prediction = 'dog'\n",
    "else:\n",
    "    prediction = 'cat'\n",
    "\n",
    "\n"
   ]
  },
  {
   "cell_type": "code",
   "execution_count": 17,
   "metadata": {
    "colab": {},
    "colab_type": "code",
    "id": "ED9KB3I54c1i"
   },
   "outputs": [
    {
     "name": "stdout",
     "output_type": "stream",
     "text": [
      "Prediction: dog\n"
     ]
    }
   ],
   "source": [
    "print(\"Prediction:\", prediction) "
   ]
  }
 ],
 "metadata": {
  "colab": {
   "collapsed_sections": [],
   "name": "convolutional_neural_network.ipynb",
   "provenance": [],
   "toc_visible": true
  },
  "kernelspec": {
   "display_name": "Python 3 (ipykernel)",
   "language": "python",
   "name": "python3"
  },
  "language_info": {
   "codemirror_mode": {
    "name": "ipython",
    "version": 3
   },
   "file_extension": ".py",
   "mimetype": "text/x-python",
   "name": "python",
   "nbconvert_exporter": "python",
   "pygments_lexer": "ipython3",
   "version": "3.11.5"
  }
 },
 "nbformat": 4,
 "nbformat_minor": 1
}
